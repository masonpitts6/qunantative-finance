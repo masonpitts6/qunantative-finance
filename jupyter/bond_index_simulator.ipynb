{
 "cells": [
  {
   "cell_type": "code",
   "execution_count": 453,
   "id": "initial_id",
   "metadata": {
    "collapsed": true,
    "ExecuteTime": {
     "end_time": "2024-02-26T03:54:12.688765800Z",
     "start_time": "2024-02-26T03:54:12.659553400Z"
    }
   },
   "source": [
    "import pandas as pd\n",
    "import numpy as np"
   ],
   "outputs": []
  },
  {
   "cell_type": "code",
   "source": [
    "def price_bond(face_value, coupon_rate, ytm, years_to_maturity, frequency=1):\n",
    "    coupon_payment = face_value * coupon_rate / frequency\n",
    "    periods = years_to_maturity * frequency\n",
    "    discount_rates = (1 + ytm / frequency) ** np.arange(1, periods + 1)\n",
    "    coupon_payments_pv = np.sum(coupon_payment / discount_rates)\n",
    "    face_value_pv = face_value / (1 + ytm / frequency) ** periods\n",
    "    bond_price = coupon_payments_pv + face_value_pv\n",
    "    return bond_price\n",
    "\n",
    "def calculate_duration(face_value, coupon_rate, ytm, years_to_maturity, frequency=1, modified=True):\n",
    "    bond_price = price_bond(\n",
    "        face_value=face_value,\n",
    "        coupon_rate=coupon_rate,\n",
    "        ytm=ytm,\n",
    "        years_to_maturity=years_to_maturity,\n",
    "        frequency=frequency\n",
    "    )\n",
    "    total_time_periods = years_to_maturity * frequency\n",
    "    time_periods = np.arange(1, total_time_periods + 1)\n",
    "    discount_factors = (1 + ytm / frequency) ** time_periods  # Correct discount rate calculation\n",
    "    coupon_payment = face_value * coupon_rate / frequency\n",
    "    cash_flows = np.full(total_time_periods, coupon_payment)\n",
    "    cash_flows[-1] += face_value  # Add the face value to the last payment\n",
    "\n",
    "    # Correctly discount and weight the cash flows\n",
    "    discounted_cash_flows = cash_flows / discount_factors\n",
    "    weighted_discounted_cash_flows = discounted_cash_flows * time_periods\n",
    "    duration = np.sum(weighted_discounted_cash_flows) / bond_price\n",
    "\n",
    "    if modified:\n",
    "        duration = duration / (1 + ytm / frequency)\n",
    "\n",
    "    return duration"
   ],
   "metadata": {
    "collapsed": false,
    "ExecuteTime": {
     "end_time": "2024-02-26T03:54:12.741569600Z",
     "start_time": "2024-02-26T03:54:12.693905Z"
    }
   },
   "id": "81a65841748b21b",
   "execution_count": 454,
   "outputs": []
  },
  {
   "cell_type": "code",
   "source": [
    "YIELD_CURVE_SHIFT_FACTOR = 0.01\n",
    "SHIFT_PERCENT = True\n",
    "FLATTEN_YIELD_CURVE = False\n",
    "FIRST_PERIOD_RATE = 0.02\n",
    "MAX_MATURITY = 30\n",
    "MATURITIES = np.arange(1, MAX_MATURITY + 1, 1)\n",
    "TOTAL_YEARS = 30\n",
    "TOTAL_YEARS_ARR = np.arange(0, TOTAL_YEARS + 1, 1)\n",
    "\n",
    "BOND_MATURITY = 10\n",
    "FACE_VALUE = 1_000\n",
    "COUPON = 0.1\n",
    "COUPON_GROWTH_RATE = 0\n",
    "FREQUENCY = 1"
   ],
   "metadata": {
    "collapsed": false,
    "ExecuteTime": {
     "end_time": "2024-02-26T03:54:12.759690900Z",
     "start_time": "2024-02-26T03:54:12.745836500Z"
    }
   },
   "id": "3f67d2615f70592a",
   "execution_count": 455,
   "outputs": []
  },
  {
   "cell_type": "markdown",
   "source": [
    "# Yield Curve"
   ],
   "metadata": {
    "collapsed": false
   },
   "id": "a764d1a681a52ca1"
  },
  {
   "cell_type": "code",
   "source": [
    "yield_curve_shift_arr = TOTAL_YEARS_ARR * YIELD_CURVE_SHIFT_FACTOR\n",
    "\n",
    "\n",
    "yield_curve_shape_arr = np.log10(MATURITIES, ) if not FLATTEN_YIELD_CURVE else 0\n",
    "yield_curve_df = pd.DataFrame(data=FIRST_PERIOD_RATE, index=MATURITIES, columns=TOTAL_YEARS_ARR)\n",
    "yield_curve_df = yield_curve_df.multiply(yield_curve_shape_arr + 1, axis=0)\n",
    "\n",
    "if SHIFT_PERCENT:\n",
    "    yield_curve_df = yield_curve_df.multiply(yield_curve_shift_arr + 1, axis=1)\n",
    "else:\n",
    "    yield_curve_df = yield_curve_df.add(yield_curve_shift_arr, axis=1)"
   ],
   "metadata": {
    "collapsed": false,
    "ExecuteTime": {
     "end_time": "2024-02-26T03:54:12.776532900Z",
     "start_time": "2024-02-26T03:54:12.764862600Z"
    }
   },
   "id": "a3ab359bd23e8971",
   "execution_count": 456,
   "outputs": []
  },
  {
   "cell_type": "code",
   "source": [
    "yield_curve_df.plot(legend=False)"
   ],
   "metadata": {
    "collapsed": false,
    "ExecuteTime": {
     "end_time": "2024-02-26T03:54:12.921068600Z",
     "start_time": "2024-02-26T03:54:12.768645200Z"
    }
   },
   "id": "cff53926c96da941",
   "execution_count": 457,
   "outputs": []
  },
  {
   "cell_type": "code",
   "source": [
    "bond_names = [f'Bond {x}' for x in range(1, BOND_MATURITY + 1)]\n",
    "bond_default_df = pd.DataFrame(index=TOTAL_YEARS_ARR, columns=bond_names)"
   ],
   "metadata": {
    "collapsed": false,
    "ExecuteTime": {
     "end_time": "2024-02-26T03:54:12.930434300Z",
     "start_time": "2024-02-26T03:54:12.922202800Z"
    }
   },
   "id": "4a57a6e41fc89915",
   "execution_count": 458,
   "outputs": []
  },
  {
   "cell_type": "markdown",
   "source": [
    "# Maturities"
   ],
   "metadata": {
    "collapsed": false
   },
   "id": "3778bd944bc10602"
  },
  {
   "cell_type": "code",
   "source": [
    "maturity_pattern_arr = np.arange(BOND_MATURITY, 0, -1)\n",
    "\n",
    "# Use broadcasting to fill in the matrix\n",
    "indices = np.arange(TOTAL_YEARS + 1)[:, None] + np.arange(BOND_MATURITY)\n",
    "wrapped_indices = np.mod(indices, BOND_MATURITY)\n",
    "\n",
    "# Fill the matrix using the wrapped indices to repeat the maturity pattern\n",
    "maturity_matrix = maturity_pattern_arr[wrapped_indices]\n",
    "\n",
    "maturity_df = bond_default_df.copy()\n",
    "maturity_df.loc[:, :] = maturity_matrix"
   ],
   "metadata": {
    "collapsed": false,
    "ExecuteTime": {
     "end_time": "2024-02-26T03:54:12.939271200Z",
     "start_time": "2024-02-26T03:54:12.929304400Z"
    }
   },
   "id": "45a3277118848e2f",
   "execution_count": 459,
   "outputs": []
  },
  {
   "cell_type": "markdown",
   "source": [
    "# Prices"
   ],
   "metadata": {
    "collapsed": false
   },
   "id": "9742a2c148dc2fb6"
  },
  {
   "cell_type": "code",
   "source": [
    "coupon_df = bond_default_df.copy()\n",
    "coupon_df.loc[:, :] = COUPON * FACE_VALUE\n",
    "price_df = bond_default_df.copy()\n",
    "face_value_df = bond_default_df.copy()\n",
    "face_value_df.loc[:, :] = 0\n",
    "repurchase_df = bond_default_df.copy()\n",
    "repurchase_df.loc[:, :] = 0\n",
    "\n",
    "for index in maturity_df.index:\n",
    "    for col in maturity_df.columns:\n",
    "        maturity = maturity_df.loc[index, col]\n",
    "        price = price_bond(\n",
    "            face_value=FACE_VALUE,\n",
    "            coupon_rate=COUPON,\n",
    "            ytm=yield_curve_df.loc[BOND_MATURITY, index],\n",
    "            years_to_maturity=maturity,\n",
    "            frequency=FREQUENCY\n",
    "        )\n",
    "        price_df.loc[index, col] = price\n",
    "        \n",
    "        if maturity == BOND_MATURITY:\n",
    "            face_value_df.loc[index, col] = FACE_VALUE\n",
    "            repurchase_df.loc[index, col] = price\n",
    "\n",
    "coupon_df = coupon_df.iloc[1:, :]\n",
    "face_value_df = face_value_df.iloc[1:, :]\n",
    "repurchase_df = repurchase_df.iloc[1:, :]"
   ],
   "metadata": {
    "collapsed": false,
    "ExecuteTime": {
     "end_time": "2024-02-26T03:54:12.988136300Z",
     "start_time": "2024-02-26T03:54:12.940644500Z"
    }
   },
   "id": "13af03ea8c3848cf",
   "execution_count": 460,
   "outputs": []
  },
  {
   "cell_type": "code",
   "source": [
    "price_dollar_return_df = (price_df - price_df.shift()).dropna()\n",
    "roll_dollar_return = face_value_df - repurchase_df"
   ],
   "metadata": {
    "collapsed": false,
    "ExecuteTime": {
     "end_time": "2024-02-26T03:54:12.989078400Z",
     "start_time": "2024-02-26T03:54:12.982887900Z"
    }
   },
   "id": "e9ea70b90fbd0e2",
   "execution_count": 461,
   "outputs": []
  },
  {
   "cell_type": "code",
   "source": [
    "total_dollar_return = price_dollar_return_df + roll_dollar_return + coupon_df"
   ],
   "metadata": {
    "collapsed": false,
    "ExecuteTime": {
     "end_time": "2024-02-26T03:54:13.004326Z",
     "start_time": "2024-02-26T03:54:12.990339200Z"
    }
   },
   "id": "2898dae2f6824d7",
   "execution_count": 462,
   "outputs": []
  },
  {
   "cell_type": "code",
   "source": [
    "price_dollar_return_df.sum(axis=1)"
   ],
   "metadata": {
    "collapsed": false,
    "ExecuteTime": {
     "end_time": "2024-02-26T03:54:13.006447600Z",
     "start_time": "2024-02-26T03:54:12.997246900Z"
    }
   },
   "id": "21a3b8bb468ba68d",
   "execution_count": 463,
   "outputs": []
  },
  {
   "cell_type": "code",
   "source": [
    "roll_dollar_return.sum(axis=1)"
   ],
   "metadata": {
    "collapsed": false,
    "ExecuteTime": {
     "end_time": "2024-02-26T03:54:13.033943100Z",
     "start_time": "2024-02-26T03:54:13.006447600Z"
    }
   },
   "id": "753dc76bda2af16",
   "execution_count": 464,
   "outputs": []
  },
  {
   "cell_type": "code",
   "source": [
    "total_dollar_return"
   ],
   "metadata": {
    "collapsed": false,
    "ExecuteTime": {
     "end_time": "2024-02-26T03:54:13.036302600Z",
     "start_time": "2024-02-26T03:54:13.013438Z"
    }
   },
   "id": "efebe89a98860a92",
   "execution_count": 465,
   "outputs": []
  },
  {
   "cell_type": "code",
   "source": [
    "total_dollar_return.sum(axis=1) / price_df.iloc[:-1, :].sum(axis=1).values"
   ],
   "metadata": {
    "collapsed": false,
    "ExecuteTime": {
     "end_time": "2024-02-26T03:54:13.049460500Z",
     "start_time": "2024-02-26T03:54:13.028179500Z"
    }
   },
   "id": "af49029f5f66d094",
   "execution_count": 466,
   "outputs": []
  },
  {
   "cell_type": "code",
   "source": [
    "price_df"
   ],
   "metadata": {
    "collapsed": false,
    "ExecuteTime": {
     "end_time": "2024-02-26T03:54:13.060377700Z",
     "start_time": "2024-02-26T03:54:13.039365Z"
    }
   },
   "id": "73a60bd0a841ec1d",
   "execution_count": 467,
   "outputs": []
  },
  {
   "cell_type": "code",
   "source": [],
   "metadata": {
    "collapsed": false,
    "ExecuteTime": {
     "end_time": "2024-02-26T03:54:13.080806200Z",
     "start_time": "2024-02-26T03:54:13.054313800Z"
    }
   },
   "id": "3406fd212cde3138",
   "execution_count": 467,
   "outputs": []
  }
 ],
 "metadata": {
  "kernelspec": {
   "display_name": "Python 3",
   "language": "python",
   "name": "python3"
  },
  "language_info": {
   "codemirror_mode": {
    "name": "ipython",
    "version": 2
   },
   "file_extension": ".py",
   "mimetype": "text/x-python",
   "name": "python",
   "nbconvert_exporter": "python",
   "pygments_lexer": "ipython2",
   "version": "2.7.6"
  }
 },
 "nbformat": 4,
 "nbformat_minor": 5
}

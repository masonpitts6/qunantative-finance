{
 "cells": [
  {
   "cell_type": "code",
   "id": "initial_id",
   "metadata": {
    "collapsed": true,
    "ExecuteTime": {
     "end_time": "2024-08-03T19:04:18.810518Z",
     "start_time": "2024-08-03T19:04:17.916791Z"
    }
   },
   "source": [
    "import pandas as pd\n",
    "import numpy as np\n",
    "import numba\n",
    "import time\n",
    "import yfinance as yf\n",
    "import matplotlib.pyplot as plt\n",
    "from quantitative_finance.portfolio.portfolio import Portfolio\n",
    "import dotenv\n",
    "from eodhd import APIClient\n",
    "import os\n",
    "\n",
    "dotenv.load_dotenv(dotenv_path=\"../.env\")"
   ],
   "outputs": [
    {
     "data": {
      "text/plain": [
       "True"
      ]
     },
     "execution_count": 1,
     "metadata": {},
     "output_type": "execute_result"
    }
   ],
   "execution_count": 1
  },
  {
   "metadata": {
    "ExecuteTime": {
     "end_time": "2024-08-03T19:04:27.125300Z",
     "start_time": "2024-08-03T19:04:27.119661Z"
    }
   },
   "cell_type": "code",
   "source": [
    "api_key = os.environ.get(\"EODHD_API_KEY\")\n",
    "api = APIClient(api_key)"
   ],
   "id": "85c6428540543ce6",
   "outputs": [],
   "execution_count": 2
  },
  {
   "metadata": {
    "ExecuteTime": {
     "end_time": "2024-08-03T19:04:27.547757Z",
     "start_time": "2024-08-03T19:04:27.544386Z"
    }
   },
   "cell_type": "code",
   "source": [
    "# Define the ticker symbols\n",
    "tickers = [\"SPY\", \"EFA\", \"EEM\", \"AGG\"]\n",
    "start_date = '2000-01-01'\n",
    "end_date = '2023-08-01'\n",
    "frequency = 'd'"
   ],
   "id": "543ccefa233fd0f6",
   "outputs": [],
   "execution_count": 3
  },
  {
   "metadata": {
    "ExecuteTime": {
     "end_time": "2024-08-03T19:04:32.582806Z",
     "start_time": "2024-08-03T19:04:28.730576Z"
    }
   },
   "cell_type": "code",
   "source": [
    "price_data = {}\n",
    "adjusted_close_df = pd.DataFrame()\n",
    "\n",
    "for idx, ticker in enumerate(tickers):\n",
    "    response = api.get_eod_historical_stock_market_data(symbol=ticker, period='d', from_date=start_date,\n",
    "                                                        to_date=end_date, order='a')\n",
    "    price_df = pd.DataFrame(response)\n",
    "    price_df['date'] = pd.to_datetime(price_df['date'])\n",
    "    price_df = price_df.set_index('date')\n",
    "\n",
    "    if idx == 0:\n",
    "        adjusted_close_df.index = price_df.index\n",
    "\n",
    "    adjusted_close_df[ticker] = price_df['adjusted_close'].astype(float)\n",
    "\n",
    "    price_data[ticker] = pd.DataFrame(response)"
   ],
   "id": "88a9fcd651203225",
   "outputs": [],
   "execution_count": 4
  },
  {
   "metadata": {
    "ExecuteTime": {
     "end_time": "2024-08-03T19:04:39.667305Z",
     "start_time": "2024-08-03T19:04:39.661303Z"
    }
   },
   "cell_type": "code",
   "source": "total_return_df = adjusted_close_df.pct_change().dropna()",
   "id": "76608eb021b5bac2",
   "outputs": [],
   "execution_count": 6
  },
  {
   "cell_type": "code",
   "source": [
    "# Generate random weights for each month that sum to 1\n",
    "np.random.seed(0)  # for reproducibility\n",
    "number_of_trades = 20\n",
    "random_weights = np.random.rand(number_of_trades, len(tickers))\n",
    "random_weights /= random_weights.sum(axis=1)[:, np.newaxis]\n",
    "\n",
    "weight_dates = np.sort(np.random.choice(total_return_df.index, size=number_of_trades - 1, replace=False))\n",
    "weight_dates = np.insert(weight_dates, 0, total_return_df.index[0])\n",
    "\n",
    "# Create a DataFrame for trades with dates as index and tickers as columns\n",
    "trades = pd.DataFrame(random_weights, columns=tickers, index=weight_dates)\n",
    "\n",
    "trade_dates = trades.index.to_numpy()\n",
    "positions = trades.columns.to_numpy()\n",
    "weights_target_arr = trades.to_numpy()\n",
    "return_dates = total_return_df[positions].index.to_numpy()\n",
    "position_returns_arr = total_return_df[positions].to_numpy()"
   ],
   "metadata": {
    "collapsed": false,
    "ExecuteTime": {
     "end_time": "2024-08-03T19:04:40.007438Z",
     "start_time": "2024-08-03T19:04:40.000897Z"
    }
   },
   "id": "4053803e9a40a8b",
   "outputs": [],
   "execution_count": 7
  },
  {
   "cell_type": "code",
   "source": [
    "port = Portfolio(\n",
    "    position_returns=total_return_df[positions],\n",
    "    positions=positions,\n",
    "    weights_target=trades,\n",
    "    return_frequency='D'\n",
    ")"
   ],
   "metadata": {
    "collapsed": false,
    "ExecuteTime": {
     "end_time": "2024-08-03T19:04:41.833299Z",
     "start_time": "2024-08-03T19:04:41.589269Z"
    }
   },
   "id": "f0799cc60c9eed49",
   "outputs": [],
   "execution_count": 8
  },
  {
   "metadata": {
    "ExecuteTime": {
     "end_time": "2024-08-03T19:04:50.716870Z",
     "start_time": "2024-08-03T19:04:50.712523Z"
    }
   },
   "cell_type": "code",
   "source": "port.trade_indices_by_position",
   "id": "59812f56aede5279",
   "outputs": [
    {
     "data": {
      "text/plain": [
       "{0: [0, 1, 2, 3, 4, 5, 6, 7, 8, 9, 10, 11, 12, 13, 14, 15, 16, 17, 18, 19],\n",
       " 1: [0, 1, 2, 3, 4, 5, 6, 7, 8, 9, 10, 11, 12, 13, 14, 15, 16, 17, 18, 19],\n",
       " 2: [0, 1, 2, 3, 4, 5, 6, 7, 8, 9, 10, 11, 12, 13, 14, 15, 16, 17, 18, 19],\n",
       " 3: [0, 1, 2, 3, 4, 5, 6, 7, 8, 9, 10, 11, 12, 13, 14, 15, 16, 17, 18, 19]}"
      ]
     },
     "execution_count": 9,
     "metadata": {},
     "output_type": "execute_result"
    }
   ],
   "execution_count": 9
  },
  {
   "metadata": {},
   "cell_type": "code",
   "outputs": [
    {
     "data": {
      "text/plain": [
       "[<matplotlib.lines.Line2D at 0x1cc482da9d0>]"
      ]
     },
     "execution_count": 39,
     "metadata": {},
     "output_type": "execute_result"
    },
    {
     "data": {
      "text/plain": [
       "<Figure size 640x480 with 1 Axes>"
      ],
      "image/png": "[encoded data removed]"
     },
     "metadata": {},
     "output_type": "display_data"
    }
   ],
   "execution_count": 39,
   "source": "plt.plot(port.backtest.cumulative_performance_arr)",
   "id": "6e8df3ac1da7ecf2"
  },
  {
   "cell_type": "code",
   "source": [
    "@numba.njit(cache=True)\n",
    "def calc_cumulative_performance(\n",
    "        portfolio_returns_arr\n",
    "):\n",
    "    log_returns_arr = np.log(portfolio_returns_arr + 1)\n",
    "    cumulative_performance = np.exp(np.cumsum(log_returns_arr)) - 1\n",
    "    return cumulative_performance"
   ],
   "metadata": {
    "collapsed": false,
    "ExecuteTime": {
     "end_time": "2024-06-18T22:11:57.455504Z",
     "start_time": "2024-06-18T22:11:57.436239Z"
    }
   },
   "id": "d141151835b2222",
   "outputs": [],
   "execution_count": 6
  },
  {
   "metadata": {
    "ExecuteTime": {
     "end_time": "2024-08-03T18:06:45.390052Z",
     "start_time": "2024-08-03T18:06:45.379246Z"
    }
   },
   "cell_type": "code",
   "source": [
    "import numpy as np\n",
    "import pandas as pd\n",
    "from typing import Optional, Union, Tuple\n",
    "from collections import OrderedDict\n",
    "\n",
    "\n",
    "class PeriodDateCalculator:\n",
    "    DAYS_OF_YEAR = 365\n",
    "    MONTHS_OF_YEAR = 12\n",
    "    QUARTERS_OF_YEAR = 4\n",
    "    YEARS_OF_YEAR = 1\n",
    "\n",
    "    def __init__(\n",
    "            self,\n",
    "            portfolio_dates: np.ndarray,\n",
    "            return_frequency: str = 'M',\n",
    "            fixed_start: bool = False,\n",
    "            periods: Optional[OrderedDict[str, Optional[float]]] = None\n",
    "    ):\n",
    "        \"\"\"\n",
    "        Initializes the PeriodDateCalculator with the given portfolio dates and options.\n",
    "\n",
    "        Args:\n",
    "            portfolio_dates (np.ndarray): Array of portfolio dates.\n",
    "            return_frequency (str): Frequency of the return calculation, either 'D' for daily or 'M' for monthly.\n",
    "            fixed_start (bool): If True, periods will be calculated with a fixed start date. If False, periods will be calculated with a fixed end date.\n",
    "            periods (Optional[OrderedDict[str, Optional[float]]]): An ordered dictionary of period names and their corresponding lengths in years.\n",
    "        \"\"\"\n",
    "        self.portfolio_dates: pd.DatetimeIndex = pd.to_datetime(portfolio_dates)\n",
    "        self.return_frequency: str = return_frequency\n",
    "        self.fixed_start: bool = fixed_start\n",
    "\n",
    "        if periods is None:\n",
    "            self.periods = self._default_periods()\n",
    "        else:\n",
    "            self.periods = periods\n",
    "\n",
    "        self.periods_in_year = self._get_periods_in_year()\n",
    "\n",
    "        if return_frequency not in ['D', 'M', 'Q', 'A']:\n",
    "            self._return_frequency_error(value=return_frequency)\n",
    "\n",
    "    def _return_frequency_error(self, value):\n",
    "        raise ValueError(\n",
    "            f'\"return_frequency\" is {value}, which is not a valid value. Please enter \"D\", \"M\", \"Q\", or \"A\"')\n",
    "\n",
    "    def _get_periods_in_year(self):\n",
    "        if self.return_frequency == 'D':\n",
    "            return self.DAYS_OF_YEAR\n",
    "        elif self.return_frequency == 'M':\n",
    "            return self.MONTHS_OF_YEAR\n",
    "        elif self.return_frequency == 'Q':\n",
    "            return self.QUARTERS_OF_YEAR\n",
    "        elif self.return_frequency == 'A':\n",
    "            return self.YEARS_OF_YEAR\n",
    "        else:\n",
    "            self._return_frequency_error(value=self.return_frequency)\n",
    "\n",
    "    def calc_period_dates(self, periods: Optional[OrderedDict[str, Union[float, None]]] = None) -> OrderedDict[\n",
    "        str, OrderedDict[str, Union[Tuple[pd.Timestamp, pd.Timestamp], Tuple[int, int]]]]:\n",
    "        \"\"\"\n",
    "        Calculates the start and end dates for various periods based on the portfolio dates.\n",
    "\n",
    "        Args:\n",
    "            periods (Optional[OrderedDict[str, Union[float, None]]]): An ordered dictionary of period names and their corresponding lengths in years. If None, default periods will be used.\n",
    "\n",
    "        Returns:\n",
    "            OrderedDict[str, OrderedDict[str, Union[Tuple[pd.Timestamp, pd.Timestamp], Tuple[int, int]]]]: An ordered dictionary where keys are period names, and values are dictionaries containing 'Dates' and 'Indices' corresponding to the start and end of the period.\n",
    "        \"\"\"\n",
    "        if periods is None:\n",
    "            periods = self.periods\n",
    "\n",
    "        adjusted_periods = self._adjust_periods(periods)\n",
    "        return self._calculate_period_dates(adjusted_periods)\n",
    "\n",
    "    def _default_periods(self) -> OrderedDict[str, Optional[float]]:\n",
    "        \"\"\"\n",
    "        Provides the default periods for calculation.\n",
    "\n",
    "        Returns:\n",
    "            OrderedDict[str, Optional[float]]: An ordered dictionary of default period names and their lengths in years.\n",
    "        \"\"\"\n",
    "        return OrderedDict([\n",
    "            (\"1M\", 1 / 12),\n",
    "            (\"3M\", 3 / 12),\n",
    "            (\"6M\", 6 / 12),\n",
    "            (\"YTD\", None),\n",
    "            (\"1Y\", 1),\n",
    "            (\"2Y\", 2),\n",
    "            (\"3Y\", 3),\n",
    "            (\"5Y\", 5),\n",
    "            (\"7Y\", 7),\n",
    "            (\"10Y\", 10),\n",
    "            (\"15Y\", 15),\n",
    "            (\"20Y\", 20),\n",
    "            (\"Inception\", None)\n",
    "        ])\n",
    "\n",
    "    def _adjust_periods(self, periods: OrderedDict[str, Optional[float]]) -> OrderedDict[str, Optional[float]]:\n",
    "        \"\"\"\n",
    "        Adjusts the periods based on the return frequency.\n",
    "\n",
    "        Args:\n",
    "            periods (OrderedDict[str, Optional[float]]): An ordered dictionary of period names and their lengths in years.\n",
    "\n",
    "        Returns:\n",
    "            OrderedDict[str, Optional[float]]]: An ordered dictionary with periods adjusted to the return frequency (daily or monthly).\n",
    "        \"\"\"\n",
    "        factor = self.periods_in_year\n",
    "        return OrderedDict((k, v * factor if v is not None else None) for k, v in periods.items())\n",
    "\n",
    "    def _calculate_period_dates(\n",
    "            self,\n",
    "            periods: OrderedDict[str, Optional[float]]\n",
    "    ) -> OrderedDict[str, OrderedDict[str, Union[Tuple[pd.Timestamp, pd.Timestamp], Tuple[int, int]]]]:\n",
    "        \"\"\"\n",
    "        Calculates the period dates based on the adjusted periods.\n",
    "\n",
    "        Args:\n",
    "            periods (OrderedDict[str, Optional[float]]): An ordered dictionary of period names and their lengths, adjusted for the return frequency.\n",
    "\n",
    "        Returns:\n",
    "            OrderedDict[str, OrderedDict[str, Union[Tuple[pd.Timestamp, pd.Timestamp], Tuple[int, int]]]]: An ordered dictionary of period names, with calculated start and end dates and their corresponding indices.\n",
    "        \"\"\"\n",
    "        period_dates = OrderedDict()\n",
    "        start_date = self.portfolio_dates[0]\n",
    "        end_date = self.portfolio_dates[-1]\n",
    "\n",
    "        for period_name, adjusted_period_length in periods.items():\n",
    "            date_offset = self._get_date_offset(adjusted_period_length) if adjusted_period_length is not None else None\n",
    "\n",
    "            if period_name in ['Inception', 'YTD']:\n",
    "                if period_name == 'Inception':\n",
    "                    calculated_start_date = start_date\n",
    "                else:\n",
    "                    calculated_start_date = self._find_closest_date_and_index(\n",
    "                        target_date=pd.Timestamp(f'{end_date.year}-01-01')\n",
    "                    )[0]\n",
    "                calculated_end_date = end_date\n",
    "            else:\n",
    "                calculated_end_date = start_date + date_offset if self.fixed_start else end_date\n",
    "                calculated_start_date = end_date - date_offset if not self.fixed_start else start_date\n",
    "\n",
    "            period_length = (calculated_end_date - calculated_start_date).days / self.DAYS_OF_YEAR\n",
    "\n",
    "            closest_start_date, start_index = self._find_closest_date_and_index(\n",
    "                target_date=calculated_start_date\n",
    "            )\n",
    "            closest_end_date, end_index = self._find_closest_date_and_index(\n",
    "                target_date=calculated_end_date\n",
    "            )\n",
    "\n",
    "            period_dates[period_name] = OrderedDict([\n",
    "                ('Dates', (closest_start_date, closest_end_date)),\n",
    "                ('Indices', (start_index, end_index)),\n",
    "                ('Number of Years', period_length)\n",
    "            ])\n",
    "\n",
    "        return period_dates\n",
    "\n",
    "    def _find_closest_date_and_index(self, target_date: pd.Timestamp) -> Tuple[pd.Timestamp, int]:\n",
    "        \"\"\"\n",
    "        Finds the closest date in the portfolio dates to the target date and its index.\n",
    "\n",
    "        Args:\n",
    "            target_date (pd.Timestamp): The target date to find in the portfolio dates.\n",
    "\n",
    "        Returns:\n",
    "            Tuple[pd.Timestamp, int]: The closest date and its index in the portfolio dates.\n",
    "        \"\"\"\n",
    "        closest_date_idx = np.argmin(np.abs(self.portfolio_dates - target_date))\n",
    "        return self.portfolio_dates[closest_date_idx], closest_date_idx\n",
    "\n",
    "    def _get_date_offset(self, period_length: Optional[float]) -> pd.DateOffset:\n",
    "        \"\"\"\n",
    "        Generates a date offset based on the period length and return frequency.\n",
    "\n",
    "        Args:\n",
    "            period_length (Optional[float]): The length of the period in the appropriate time unit (days or months).\n",
    "\n",
    "        Returns:\n",
    "            pd.DateOffset: The calculated date offset.\n",
    "\n",
    "        Raises:\n",
    "            ValueError: If the period length is None.\n",
    "        \"\"\"\n",
    "        if period_length is None:\n",
    "            raise ValueError(\"Period length cannot be None for calculating start date.\")\n",
    "\n",
    "        offset_int = int(period_length)\n",
    "\n",
    "        if self.return_frequency == 'D':\n",
    "            date_offset = pd.DateOffset(days=offset_int)\n",
    "        elif self.return_frequency == 'M':\n",
    "            date_offset = pd.DateOffset(months=offset_int)\n",
    "        elif self.return_frequency == 'Q':\n",
    "            date_offset = pd.DateOffset(months=3 * offset_int)\n",
    "        elif self.return_frequency == 'A':\n",
    "            date_offset = pd.DateOffset(years=offset_int)\n",
    "        else:\n",
    "            date_offset = None\n",
    "\n",
    "        return date_offset\n"
   ],
   "id": "38f46cfff0fd7f1d",
   "outputs": [],
   "execution_count": 87
  },
  {
   "cell_type": "code",
   "source": [
    "calculator = PeriodDateCalculator(\n",
    "    total_return_df.index.values,\n",
    "    return_frequency='D',\n",
    "    fixed_start=False\n",
    ")"
   ],
   "metadata": {
    "collapsed": false,
    "ExecuteTime": {
     "end_time": "2024-08-03T18:06:45.901165Z",
     "start_time": "2024-08-03T18:06:45.897809Z"
    }
   },
   "id": "5408d4801681ae33",
   "outputs": [],
   "execution_count": 88
  },
  {
   "cell_type": "code",
   "source": "period_dates = calculator.calc_period_dates()",
   "metadata": {
    "collapsed": false,
    "ExecuteTime": {
     "end_time": "2024-08-03T18:06:46.303039Z",
     "start_time": "2024-08-03T18:06:46.294717Z"
    }
   },
   "id": "5a31063191380d3d",
   "outputs": [],
   "execution_count": 89
  },
  {
   "metadata": {
    "ExecuteTime": {
     "end_time": "2024-08-03T18:07:12.157047Z",
     "start_time": "2024-08-03T18:07:12.152216Z"
    }
   },
   "cell_type": "code",
   "source": "period_dates['Inception']",
   "id": "1d5d091e08c937d6",
   "outputs": [
    {
     "data": {
      "text/plain": [
       "OrderedDict([('Dates',\n",
       "              (Timestamp('2003-09-29 00:00:00'),\n",
       "               Timestamp('2023-08-01 00:00:00'))),\n",
       "             ('Indices', (0, 4993)),\n",
       "             ('Number of Years', 19.852054794520548)])"
      ]
     },
     "execution_count": 99,
     "metadata": {},
     "output_type": "execute_result"
    }
   ],
   "execution_count": 99
  },
  {
   "metadata": {
    "ExecuteTime": {
     "end_time": "2024-08-03T18:14:38.054654Z",
     "start_time": "2024-08-03T18:14:38.049348Z"
    }
   },
   "cell_type": "code",
   "source": [
    "from numba import njit\n",
    "\n",
    "\n",
    "def calc_cumulative_returns(\n",
    "        returns_arr,\n",
    "        axis=None\n",
    "):\n",
    "    return np.exp(np.sum(np.log(returns_arr + 1), axis=axis)) - 1\n",
    "\n",
    "\n",
    "def calc_rolling_returns(\n",
    "        rolling_windows\n",
    "):\n",
    "    rolling_returns_arr = calc_cumulative_returns(\n",
    "        returns_arr=rolling_windows,\n",
    "        axis=2\n",
    "    )\n",
    "\n",
    "    return rolling_returns_arr\n",
    "\n",
    "\n",
    "def calc_rolling_std(\n",
    "        rolling_windows\n",
    "):\n",
    "    rolling_std_arr = np.std(rolling_windows, axis=2)\n",
    "    return rolling_std_arr\n",
    "\n",
    "\n",
    "def calculate_var_cvar(returns, confidence_level=0.95):\n",
    "    \"\"\"\n",
    "    Calculate the Value at Risk (VaR) and Conditional Value at Risk (CVaR) of a numpy returns array.\n",
    "\n",
    "    Parameters:\n",
    "    returns (numpy array): Array of returns\n",
    "    confidence_level (float): Confidence level for VaR and CVaR (default is 0.95)\n",
    "\n",
    "    Returns:\n",
    "    tuple: (VaR, CVaR)\n",
    "    \"\"\"\n",
    "    # Sort returns\n",
    "    sorted_returns = np.sort(returns)\n",
    "\n",
    "    # Calculate the index corresponding to the confidence level\n",
    "    index = int((1 - confidence_level) * len(sorted_returns))\n",
    "\n",
    "    # VaR is the value at the given confidence level\n",
    "    var = sorted_returns[index]\n",
    "\n",
    "    # CVaR is the average of returns worse than the VaR\n",
    "    cvar = sorted_returns[:index].mean()\n",
    "\n",
    "    return var, cvar"
   ],
   "id": "e59f1ab7ca1cfc5c",
   "outputs": [],
   "execution_count": 114
  },
  {
   "metadata": {
    "ExecuteTime": {
     "end_time": "2024-08-03T18:14:41.867006Z",
     "start_time": "2024-08-03T18:14:41.863406Z"
    }
   },
   "cell_type": "code",
   "source": [
    "def calc_rolling_windows(\n",
    "        returns_arr,\n",
    "        window_size,\n",
    "        periods_dict,\n",
    "        periods_in_year=None\n",
    "):\n",
    "    if periods_in_year is None:\n",
    "        periods_in_year = 252\n",
    "\n",
    "    rolling_windows_dict = {k: {} for k in periods_dict.keys()}\n",
    "\n",
    "    for period_name, period_info_dict in periods_dict.items():\n",
    "        rolling_windows_dict[period_name]['Rolling Window Length'] = period_info_dict['Number of Years'] * periods_in_year\n",
    "        rolling_windows_dict[period_name]['Rolling Window'] = np.lib.stride_tricks.sliding_window_view(returns_arr,\n",
    "                                                                                                       window_shape=window_size,\n",
    "                                                                                                       axis=0)\n",
    "    return rolling_windows_dict\n"
   ],
   "id": "a76df278ef8159b8",
   "outputs": [],
   "execution_count": 116
  },
  {
   "metadata": {
    "ExecuteTime": {
     "end_time": "2024-08-03T18:14:42.238240Z",
     "start_time": "2024-08-03T18:14:42.234866Z"
    }
   },
   "cell_type": "code",
   "source": [
    "window_dict = calc_rolling_windows(\n",
    "    returns_arr=total_return_df.to_numpy(),\n",
    "    window_size=252,\n",
    "    periods_dict=period_dates\n",
    ")"
   ],
   "id": "919282f29cc3ae7f",
   "outputs": [],
   "execution_count": 117
  },
  {
   "metadata": {
    "ExecuteTime": {
     "end_time": "2024-08-03T18:14:42.908224Z",
     "start_time": "2024-08-03T18:14:42.905226Z"
    }
   },
   "cell_type": "code",
   "source": [
    "def calc_rolling_returns_stats(\n",
    "        window_dict,\n",
    "):\n",
    "    rolling_return_dict = {}\n",
    "\n",
    "    for period_name in window_dict.keys():\n",
    "        rolling_windows = window_dict[period_name]['Rolling Window']\n",
    "        rolling_return_dict[period_name] = calc_rolling_returns(\n",
    "            rolling_windows\n",
    "        )\n",
    "    return rolling_return_dict\n",
    "\n"
   ],
   "id": "50320e3095bd580c",
   "outputs": [],
   "execution_count": 118
  },
  {
   "metadata": {
    "ExecuteTime": {
     "end_time": "2024-08-03T18:14:43.531189Z",
     "start_time": "2024-08-03T18:14:43.527978Z"
    }
   },
   "cell_type": "code",
   "source": [
    "def calc_rolling_stats(\n",
    "        window_dict,\n",
    "        func=calc_rolling_returns\n",
    "):\n",
    "    rolling_return_dict = {}\n",
    "\n",
    "    for period_name in window_dict.keys():\n",
    "        rolling_windows = window_dict[period_name]['Rolling Window']\n",
    "        rolling_return_dict[period_name] = func(\n",
    "            rolling_windows\n",
    "        )\n",
    "    return rolling_return_dict"
   ],
   "id": "53e9e4984c293684",
   "outputs": [],
   "execution_count": 119
  },
  {
   "metadata": {
    "ExecuteTime": {
     "end_time": "2024-08-03T18:15:38.837800Z",
     "start_time": "2024-08-03T18:15:38.449037Z"
    }
   },
   "cell_type": "code",
   "source": [
    "rolling_returns_dict = calc_rolling_stats(\n",
    "    window_dict=window_dict,\n",
    "    func=calc_rolling_returns\n",
    ")"
   ],
   "id": "a7b332b6ca63799d",
   "outputs": [],
   "execution_count": 122
  },
  {
   "metadata": {
    "ExecuteTime": {
     "end_time": "2024-08-03T18:15:38.844849Z",
     "start_time": "2024-08-03T18:15:38.838805Z"
    }
   },
   "cell_type": "code",
   "source": "rolling_returns_dict",
   "id": "5298783271b5137",
   "outputs": [
    {
     "data": {
      "text/plain": [
       "{'1M': array([[ 0.13126113,  0.21835729,  0.26723704,  0.03913927],\n",
       "        [ 0.1259139 ,  0.20756298,  0.26494276,  0.03602627],\n",
       "        [ 0.13614056,  0.22738554,  0.27560349,  0.03218864],\n",
       "        ...,\n",
       "        [ 0.15794667,  0.18017375,  0.07311258, -0.02883341],\n",
       "        [ 0.14578061,  0.17448066,  0.06907993, -0.03455326],\n",
       "        [ 0.12608504,  0.14392799,  0.06059213, -0.04104202]]),\n",
       " '3M': array([[ 0.13126113,  0.21835729,  0.26723704,  0.03913927],\n",
       "        [ 0.1259139 ,  0.20756298,  0.26494276,  0.03602627],\n",
       "        [ 0.13614056,  0.22738554,  0.27560349,  0.03218864],\n",
       "        ...,\n",
       "        [ 0.15794667,  0.18017375,  0.07311258, -0.02883341],\n",
       "        [ 0.14578061,  0.17448066,  0.06907993, -0.03455326],\n",
       "        [ 0.12608504,  0.14392799,  0.06059213, -0.04104202]]),\n",
       " '6M': array([[ 0.13126113,  0.21835729,  0.26723704,  0.03913927],\n",
       "        [ 0.1259139 ,  0.20756298,  0.26494276,  0.03602627],\n",
       "        [ 0.13614056,  0.22738554,  0.27560349,  0.03218864],\n",
       "        ...,\n",
       "        [ 0.15794667,  0.18017375,  0.07311258, -0.02883341],\n",
       "        [ 0.14578061,  0.17448066,  0.06907993, -0.03455326],\n",
       "        [ 0.12608504,  0.14392799,  0.06059213, -0.04104202]]),\n",
       " 'YTD': array([[ 0.13126113,  0.21835729,  0.26723704,  0.03913927],\n",
       "        [ 0.1259139 ,  0.20756298,  0.26494276,  0.03602627],\n",
       "        [ 0.13614056,  0.22738554,  0.27560349,  0.03218864],\n",
       "        ...,\n",
       "        [ 0.15794667,  0.18017375,  0.07311258, -0.02883341],\n",
       "        [ 0.14578061,  0.17448066,  0.06907993, -0.03455326],\n",
       "        [ 0.12608504,  0.14392799,  0.06059213, -0.04104202]]),\n",
       " '1Y': array([[ 0.13126113,  0.21835729,  0.26723704,  0.03913927],\n",
       "        [ 0.1259139 ,  0.20756298,  0.26494276,  0.03602627],\n",
       "        [ 0.13614056,  0.22738554,  0.27560349,  0.03218864],\n",
       "        ...,\n",
       "        [ 0.15794667,  0.18017375,  0.07311258, -0.02883341],\n",
       "        [ 0.14578061,  0.17448066,  0.06907993, -0.03455326],\n",
       "        [ 0.12608504,  0.14392799,  0.06059213, -0.04104202]]),\n",
       " '2Y': array([[ 0.13126113,  0.21835729,  0.26723704,  0.03913927],\n",
       "        [ 0.1259139 ,  0.20756298,  0.26494276,  0.03602627],\n",
       "        [ 0.13614056,  0.22738554,  0.27560349,  0.03218864],\n",
       "        ...,\n",
       "        [ 0.15794667,  0.18017375,  0.07311258, -0.02883341],\n",
       "        [ 0.14578061,  0.17448066,  0.06907993, -0.03455326],\n",
       "        [ 0.12608504,  0.14392799,  0.06059213, -0.04104202]]),\n",
       " '3Y': array([[ 0.13126113,  0.21835729,  0.26723704,  0.03913927],\n",
       "        [ 0.1259139 ,  0.20756298,  0.26494276,  0.03602627],\n",
       "        [ 0.13614056,  0.22738554,  0.27560349,  0.03218864],\n",
       "        ...,\n",
       "        [ 0.15794667,  0.18017375,  0.07311258, -0.02883341],\n",
       "        [ 0.14578061,  0.17448066,  0.06907993, -0.03455326],\n",
       "        [ 0.12608504,  0.14392799,  0.06059213, -0.04104202]]),\n",
       " '5Y': array([[ 0.13126113,  0.21835729,  0.26723704,  0.03913927],\n",
       "        [ 0.1259139 ,  0.20756298,  0.26494276,  0.03602627],\n",
       "        [ 0.13614056,  0.22738554,  0.27560349,  0.03218864],\n",
       "        ...,\n",
       "        [ 0.15794667,  0.18017375,  0.07311258, -0.02883341],\n",
       "        [ 0.14578061,  0.17448066,  0.06907993, -0.03455326],\n",
       "        [ 0.12608504,  0.14392799,  0.06059213, -0.04104202]]),\n",
       " '7Y': array([[ 0.13126113,  0.21835729,  0.26723704,  0.03913927],\n",
       "        [ 0.1259139 ,  0.20756298,  0.26494276,  0.03602627],\n",
       "        [ 0.13614056,  0.22738554,  0.27560349,  0.03218864],\n",
       "        ...,\n",
       "        [ 0.15794667,  0.18017375,  0.07311258, -0.02883341],\n",
       "        [ 0.14578061,  0.17448066,  0.06907993, -0.03455326],\n",
       "        [ 0.12608504,  0.14392799,  0.06059213, -0.04104202]]),\n",
       " '10Y': array([[ 0.13126113,  0.21835729,  0.26723704,  0.03913927],\n",
       "        [ 0.1259139 ,  0.20756298,  0.26494276,  0.03602627],\n",
       "        [ 0.13614056,  0.22738554,  0.27560349,  0.03218864],\n",
       "        ...,\n",
       "        [ 0.15794667,  0.18017375,  0.07311258, -0.02883341],\n",
       "        [ 0.14578061,  0.17448066,  0.06907993, -0.03455326],\n",
       "        [ 0.12608504,  0.14392799,  0.06059213, -0.04104202]]),\n",
       " '15Y': array([[ 0.13126113,  0.21835729,  0.26723704,  0.03913927],\n",
       "        [ 0.1259139 ,  0.20756298,  0.26494276,  0.03602627],\n",
       "        [ 0.13614056,  0.22738554,  0.27560349,  0.03218864],\n",
       "        ...,\n",
       "        [ 0.15794667,  0.18017375,  0.07311258, -0.02883341],\n",
       "        [ 0.14578061,  0.17448066,  0.06907993, -0.03455326],\n",
       "        [ 0.12608504,  0.14392799,  0.06059213, -0.04104202]]),\n",
       " '20Y': array([[ 0.13126113,  0.21835729,  0.26723704,  0.03913927],\n",
       "        [ 0.1259139 ,  0.20756298,  0.26494276,  0.03602627],\n",
       "        [ 0.13614056,  0.22738554,  0.27560349,  0.03218864],\n",
       "        ...,\n",
       "        [ 0.15794667,  0.18017375,  0.07311258, -0.02883341],\n",
       "        [ 0.14578061,  0.17448066,  0.06907993, -0.03455326],\n",
       "        [ 0.12608504,  0.14392799,  0.06059213, -0.04104202]]),\n",
       " 'Inception': array([[ 0.13126113,  0.21835729,  0.26723704,  0.03913927],\n",
       "        [ 0.1259139 ,  0.20756298,  0.26494276,  0.03602627],\n",
       "        [ 0.13614056,  0.22738554,  0.27560349,  0.03218864],\n",
       "        ...,\n",
       "        [ 0.15794667,  0.18017375,  0.07311258, -0.02883341],\n",
       "        [ 0.14578061,  0.17448066,  0.06907993, -0.03455326],\n",
       "        [ 0.12608504,  0.14392799,  0.06059213, -0.04104202]])}"
      ]
     },
     "execution_count": 123,
     "metadata": {},
     "output_type": "execute_result"
    }
   ],
   "execution_count": 123
  },
  {
   "metadata": {
    "ExecuteTime": {
     "end_time": "2024-08-03T18:15:43.867745Z",
     "start_time": "2024-08-03T18:15:43.403376Z"
    }
   },
   "cell_type": "code",
   "source": [
    "rolling_returns_dict = calc_rolling_returns_stats(\n",
    "    window_dict=window_dict\n",
    ")\n"
   ],
   "id": "d5b9a5b8703ac66",
   "outputs": [],
   "execution_count": 124
  },
  {
   "metadata": {},
   "cell_type": "code",
   "outputs": [],
   "execution_count": null,
   "source": "",
   "id": "b16cf89637f3c8c0"
  }
 ],
 "metadata": {
  "kernelspec": {
   "display_name": "Python 3",
   "language": "python",
   "name": "python3"
  },
  "language_info": {
   "codemirror_mode": {
    "name": "ipython",
    "version": 2
   },
   "file_extension": ".py",
   "mimetype": "text/x-python",
   "name": "python",
   "nbconvert_exporter": "python",
   "pygments_lexer": "ipython2",
   "version": "2.7.6"
  }
 },
 "nbformat": 4,
 "nbformat_minor": 5
}
